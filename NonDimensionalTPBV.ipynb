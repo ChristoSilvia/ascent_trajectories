{
 "cells": [
  {
   "cell_type": "markdown",
   "metadata": {},
   "source": [
    "Here:\n",
    "\n",
    "\\begin{align}\n",
    "T & = \\frac{\\alpha_b}{b} \\\\\n",
    "V & = V_e \\\\\n",
    "L & = \\frac{A^2 \\alpha_b}{b^3} \\\\\n",
    "R & = \\frac{A \\alpha_b}{b^2} \\\\\n",
    "\\alpha_b & = \\frac{M_0 - M_f}{M_0}\\\\\n",
    "P & = \\frac{b^4 \\mu}{A^3 \\alpha_b} \\\\\n",
    "b & = \\frac{B}{M_0}\\\\\n",
    "A & = \\frac{F}{M_0}\\\\\n",
    "V_e & = \\frac{A}{b}\n",
    "\\end{align}\n",
    "\n",
    "With the dynamics:\n",
    "\n",
    "\\begin{align}\n",
    "\\frac{dr}{dt} & = v \\\\\n",
    "\\frac{dv}{dt} & = \\frac{l^2}{r^3} - P \\frac{1}{r^2} + \\frac{\\alpha_b}{1 - \\alpha_b t} \\cos \\theta \\\\\n",
    "\\frac{dl}{dt} & = r \\frac{\\alpha_b}{1 - \\alpha_b t} \\sin \\theta\n",
    "\\end{align}"
   ]
  },
  {
   "cell_type": "markdown",
   "metadata": {},
   "source": [
    "If the rocket is given a launch angle $\\theta$ from vertical for a short period of time $\\Delta T$, then the initial conditions are:\n",
    "\n",
    "\\begin{align}\n",
    "r_0 & = r_0 \\\\\n",
    "v_0 & = \\left( \\alpha_b \\cos \\theta_0 - \\frac{P}{r_0^2} \\right) \\delta t_0 \\\\\n",
    "l_0 & = \\alpha_b \\delta t_0 \\sin \\theta_0\n",
    "\\end{align}"
   ]
  },
  {
   "cell_type": "markdown",
   "metadata": {},
   "source": [
    "We use the gravity turn algorithm for steering the rocket:\n",
    "\n",
    "\\begin{align}\n",
    "\\tan \\theta & = \\frac{l}{r v}\\\\\n",
    "\\cos \\theta & = \\frac{rv}{\\sqrt{(rv)^2 + l^2}}\\\\\n",
    "\\sin \\theta & = \\frac{l}{\\sqrt{(rv)^2 + l^2}}\\\\\n",
    "\\end{align}"
   ]
  },
  {
   "cell_type": "markdown",
   "metadata": {},
   "source": [
    "\\begin{align}\n",
    "\\frac{dr}{dt} & = v \\\\\n",
    "\\frac{dv}{dt} & = \\frac{l^2}{r^3} - P \\frac{1}{r^2} + \\frac{\\alpha_b}{1 - \\alpha_b t} \\frac{rv}{\\sqrt{(rv)^2 + l^2}} \\\\\n",
    "\\frac{dl}{dt} & = \\frac{\\alpha_b}{1 - \\alpha_b t} \\frac{r l}{\\sqrt{(rv)^2 + l^2}}\n",
    "\\end{align}"
   ]
  },
  {
   "cell_type": "markdown",
   "metadata": {},
   "source": [
    "Now we discretize these equations in time, bring the time derivative to the right side.\n",
    "\n",
    "\\begin{align}\n",
    "f_{ir} & = \\frac{1}{2 \\Delta t} r_{i-1} - \\frac{1}{2 \\Delta t} r_{i+1} + v_i \\\\\n",
    "f_{iv} & = \\frac{1}{2 \\Delta t} v_{i-1} - \\frac{1}{2 \\Delta t} v_{i+1} + \\frac{l_i^2}{r_i^3} - P \\frac{1}{r_i^2} + \\frac{\\alpha_b}{1 - \\alpha_b t_i} \\frac{r_i v_i}{\\sqrt{(r_i v_i)^2 + l_i^2}} \\\\\n",
    "f_{il} & = \\frac{1}{2 \\Delta t} l_{i-1} - \\frac{1}{2 \\Delta t} l_{i+1} + \\frac{\\alpha_b}{1 - \\alpha_b t_i} \\frac{r_i l_i}{\\sqrt{(r_i v_i)^2 + l_i^2}}\n",
    "\\end{align}"
   ]
  },
  {
   "cell_type": "markdown",
   "metadata": {},
   "source": [
    "We can also compute the partial derivatives:\n",
    "\n",
    "\\begin{align}\n",
    "a_i & = \\frac{\\alpha_b}{1 - \\alpha_b t_i}\\\\\n",
    "D_i & = \\left( (r_i v_i)^2 + l_i^2 \\right)^\\frac{1}{2}\n",
    "\\end{align}\n",
    "\n",
    "And below, here are all the partial derivatives:\n",
    "\n",
    "\\begin{align}\n",
    "\\frac{\\partial f_{ir}}{\\partial r_{i-1}} & = \\frac{1}{2 \\Delta t} \\\\\n",
    "\\frac{\\partial f_{ir}}{\\partial r_{i+1}} & = -\\frac{1}{2 \\Delta t} \\\\\n",
    "\\frac{\\partial f_{ir}}{\\partial v_i} & = 1 \\\\\n",
    "\\frac{\\partial f_{ir}}{\\partial P} & = 0 \\\\\n",
    "\\frac{\\partial f_{iv}}{\\partial v_{i-1}} & = \\frac{1}{2 \\Delta t} \\\\\n",
    "\\frac{\\partial f_{iv}}{\\partial v_{i+1}} & = -\\frac{1}{2 \\Delta t} \\\\\n",
    "\\frac{\\partial f_{iv}}{\\partial v_i} & = a_i \\frac{l_i^2 r_i}{D_i^3} \\\\\n",
    "\\frac{\\partial f_{iv}}{\\partial r_i} & = -3 \\frac{l_i^2}{r_i^4} + 2 P \\frac{1}{r_i^3} + a_i \\frac{l_i^2 v_i}{D_i^3} \\\\\n",
    "\\frac{\\partial f_{iv}}{\\partial l_i} & = 2 \\frac{l_i}{r_i^3} - a_i \\frac{r_i l_i v_i}{D_i^3} \\\\\n",
    "\\frac{\\partial f_{iv}}{\\partial P} & = - \\frac{1}{r_i^2} \\\\\n",
    "\\frac{\\partial f_{il}}{\\partial l_{i-1}} & = \\frac{1}{2 \\Delta t} \\\\\n",
    "\\frac{\\partial f_{il}}{\\partial l_{i+1}} & = -\\frac{1}{2 \\Delta t} \\\\\n",
    "\\frac{\\partial f_{il}}{\\partial v_i} & = a_i \\frac{r_i^3 l_i v_i}{D_i^3} \\\\\n",
    "\\frac{\\partial f_{il}}{\\partial r_i} & = a_i \\frac{l_i^3}{D_i^3}\\\\\n",
    "\\frac{\\partial f_{il}}{\\partial l_i} & = a_i \\frac{r_i^3 v_i^2}{D_i^3}\\\\\n",
    "\\frac{\\partial f_{il}}{\\partial P} & = 0 \\\\\n",
    "\\end{align}"
   ]
  },
  {
   "cell_type": "markdown",
   "metadata": {},
   "source": [
    "We can put these into tabular form"
   ]
  },
  {
   "cell_type": "markdown",
   "metadata": {},
   "source": [
    "<table>\n",
    "<tr>\n",
    "    <td></td>\n",
    "    <td> $f_{ir}$ </td>\n",
    "    <td> $f_{iv}$ </td>\n",
    "    <td> $f_{il}$ </td>\n",
    "</tr>\n",
    "<tr>\n",
    "    <td> $\\frac{\\partial}{\\partial r_i}$ </td>\n",
    "    <td> $0$ </td>\n",
    "    <td> $-3 \\frac{l_i^2}{r_i^4} + 2 P \\frac{1}{r_i^3} + a_i \\frac{l_i^2 v_i}{D_i^3}$ </td>\n",
    "    <td> $a_i \\frac{l_i^3}{D_i^3}$ </td>\n",
    "</tr>\n",
    "<tr>\n",
    "    <td> $\\frac{\\partial}{\\partial r_{i-1}}$ </td>\n",
    "    <td> $\\frac{1}{2 \\Delta t}$ </td>\n",
    "    <td> $0$ </td>\n",
    "    <td> $0$ </td>\n",
    "</tr>\n",
    "<tr>\n",
    "    <td> $\\frac{\\partial}{\\partial r_{i+1}}$ </td>\n",
    "    <td> $-\\frac{1}{2 \\Delta t}$ </td>\n",
    "    <td> $0$ </td>\n",
    "    <td> $0$ </td>\n",
    "</tr>\n",
    "<tr>\n",
    "    <td> $\\frac{\\partial}{\\partial v_i}$ </td>\n",
    "    <td> $1$ </td>\n",
    "    <td> $a_i \\frac{l_i^2 r_i}{D_i^3}$ </td>\n",
    "    <td> $a_i \\frac{r_i^3 l_i v_i}{D_i^3}$ </td>\n",
    "</tr>\n",
    "<tr>\n",
    "    <td> $\\frac{\\partial}{\\partial v_{i-1}}$ </td>\n",
    "    <td> $0$ </td>\n",
    "    <td> $\\frac{1}{2 \\Delta t}$ </td>\n",
    "    <td> $0$ </td>\n",
    "</tr>\n",
    "<tr>\n",
    "    <td> $\\frac{\\partial}{\\partial v_{i+1}}$ </td>\n",
    "    <td> $0$ </td>\n",
    "    <td> $-\\frac{1}{2 \\Delta t}$ </td>\n",
    "    <td> $0$ </td>\n",
    "</tr>\n",
    "<tr>\n",
    "    <td> $\\frac{\\partial}{\\partial l_i}$ </td>\n",
    "    <td> $0$ </td>\n",
    "    <td> $2 \\frac{l_i}{r_i^3} - a_i \\frac{r_i l_i v_i}{D_i^3}$ </td>\n",
    "    <td> $a_i \\frac{r_i^3 v_i^2}{D_i^3}$ </td>\n",
    "</tr>\n",
    "<tr>\n",
    "    <td> $\\frac{\\partial}{\\partial l_{i-1}}$ </td>\n",
    "    <td> $0$ </td>\n",
    "    <td> $0$ </td>\n",
    "    <td> $\\frac{1}{2 \\Delta t}$ </td>\n",
    "</tr>\n",
    "<tr>\n",
    "    <td> $\\frac{\\partial}{\\partial v_{i+1}}$ </td>\n",
    "    <td> $0$ </td>\n",
    "    <td> $0$ </td>\n",
    "    <td> $-\\frac{1}{2 \\Delta t}$ </td>\n",
    "</tr>\n",
    "<tr>\n",
    "    <td> $\\frac{\\partial}{\\partial P}$ </td>\n",
    "    <td> $0$ </td>\n",
    "    <td> $-\\frac{1}{r_i^2}$ </td>\n",
    "    <td> $0$ </td>\n",
    "</tr>\n",
    "<tr>\n",
    "    <td> $\\frac{\\partial}{\\partial \\alpha_b}$ </td>\n",
    "    <td> $0$ </td>\n",
    "    <td> $\\frac{1}{(1-\\alpha_p t_i)^2} \\frac{r_i v_i}{D_i}$ </td>\n",
    "    <td> $\\frac{1}{(1-\\alpha_p t_i)^2} \\frac{r_i l_i}{D_i}$ </td>\n",
    "</tr>\n",
    "</table>"
   ]
  },
  {
   "cell_type": "markdown",
   "metadata": {},
   "source": [
    "(For the last timepoint, we will not use the central difference, for which the coefficinets are $f_i' \\approx (-\\frac{3}{2} f_i + 2 f_{i-1} - \\frac{1}{2} f_{i-2})/\\Delta x$"
   ]
  },
  {
   "cell_type": "markdown",
   "metadata": {},
   "source": [
    "The initial conditions are obvious, but what are the final conditions?  We need a circular orbit, so in addition to $v=0$, we require that:\n",
    "\n",
    "\\begin{align}\n",
    "L & = \\sqrt{R \\mu}\\\\\n",
    "L & = \\frac{A^2 \\alpha_b}{b^3} l\\\\\n",
    "R & = \\frac{A \\alpha_b}{b^2} r \\\\\n",
    "l & = \\sqrt{P} \\sqrt{r}\n",
    "\\end{align}\n",
    "\n",
    "In addition, we need to fix $r_0$ to be the surface of the body, and $v_0$ and $l_0$ to be zero.  But, now we have two more constraints than variables.  What are these variables going to be?\n",
    "Since we're trying to find the functional relationship between $\\alpha_b$ and $P$, we can only use one.  We're going to fix $\\alpha_b$ and use $P$ as our variable, because it's numerically simpler.  We need another variable, and this will come from the initial condition. We are going to use the starting angle $\\theta_0$ as our final variable."
   ]
  },
  {
   "cell_type": "markdown",
   "metadata": {},
   "source": [
    "Now we discretize these equations in time, bring the time derivative to the right side.\n",
    "\n",
    "\\begin{align}\n",
    "f_{ir} & = \\frac{1}{2 \\Delta t} r_{i-1} - \\frac{1}{2 \\Delta t} r_{i+1} + v_i \\\\\n",
    "f_{iv} & = \\frac{1}{2 \\Delta t} v_{i-1} - \\frac{1}{2 \\Delta t} v_{i+1} + \\frac{l_i^2}{r_i^3} - P \\frac{1}{r_i^2} + \\frac{\\alpha_b}{1 - \\alpha_b t_i} \\frac{r_i v_i}{\\sqrt{(r_i v_i)^2 + l_i^2}} \\\\\n",
    "f_{il} & = \\frac{1}{2 \\Delta t} l_{i-1} - \\frac{1}{2 \\Delta t} l_{i+1} + \\frac{\\alpha_b}{1 - \\alpha_b t_i} \\frac{r_i l_i}{\\sqrt{(r_i v_i)^2 + l_i^2}}\n",
    "\\end{align}"
   ]
  },
  {
   "cell_type": "markdown",
   "metadata": {
    "collapsed": true
   },
   "source": [
    "The equations, for the first point used ($i = 1$):\n",
    "\n",
    "\\begin{align}\n",
    "\\frac{-1}{2 \\Delta t} r_2 + v_1 & = \\frac{-1}{2 \\Delta t} r_0 \\\\\n",
    "\\frac{-1}{2 \\Delta t} v_{2} + \\frac{l_1^2}{r_1^3} - P \\frac{1}{r_1^2} + \\frac{\\alpha_b}{1 - \\alpha_b t_1} \\frac{r_1 v_1}{\\sqrt{(r_1 v_1)^2 + l_1^2}} & = \\frac{-1}{2 \\Delta t} v_0 \\\\\n",
    "\\frac{-1}{2 \\Delta t} l_2 + \\frac{\\alpha_b}{1 - \\alpha_b t_1} \\frac{r_1 l_1}{\\sqrt{(r_1 v_1)^2 + l_1^2}} & = \\frac{-1}{2 \\Delta t} l_0\n",
    "\\end{align}"
   ]
  },
  {
   "cell_type": "markdown",
   "metadata": {
    "collapsed": true
   },
   "source": [
    "Or in terms of $\\theta_0$:\n",
    "\n",
    "\\begin{align}\n",
    "\\frac{-1}{2 \\Delta t} r_2 + v_1 & = \\frac{-1}{2 \\Delta t} r_0 \\\\\n",
    "\\frac{-1}{2 \\Delta t} v_{2} + \\frac{l_1^2}{r_1^3} - P \\frac{1}{r_1^2} + \\frac{\\alpha_b}{1 - \\alpha_b t_1} \\frac{r_1 v_1}{\\sqrt{(r_1 v_1)^2 + l_1^2}} & = \\frac{-1}{2 \\Delta t} v_0 \\\\\n",
    "\\frac{-1}{2 \\Delta t} l_2 + \\frac{\\alpha_b}{1 - \\alpha_b t_1} \\frac{r_1 l_1}{\\sqrt{(r_1 v_1)^2 + l_1^2}} & = \\frac{-1}{2 \\Delta t} l_0\n",
    "\\end{align}"
   ]
  },
  {
   "cell_type": "markdown",
   "metadata": {},
   "source": [
    "If the rocket is given a launch angle $\\theta$ from vertical for a short period of time $\\Delta T$, then the initial conditions are:\n",
    "\n",
    "\\begin{align}\n",
    "r_0 & = r_0 \\\\\n",
    "v_0 & =  \\\\\n",
    "l_0 & = \\alpha_b \\delta t_0 \\sin \\theta_0\n",
    "\\end{align}"
   ]
  },
  {
   "cell_type": "markdown",
   "metadata": {},
   "source": [
    "The equations, for $i=2$ to $i=n-2$."
   ]
  },
  {
   "cell_type": "markdown",
   "metadata": {},
   "source": [
    "\n",
    "\\begin{align}\n",
    "\\frac{1}{2 \\Delta t} r_{i-1} - \\frac{1}{2 \\Delta t} r_{i+1} + v_i &=0\\\\\n",
    "\\frac{1}{2 \\Delta t} v_{i-1} - \\frac{1}{2 \\Delta t} v_{i+1} + \\frac{l_i^2}{r_i^3} - P \\frac{1}{r_i^2} + \\frac{\\alpha_b}{1 - \\alpha_b t_i} \\frac{r_i v_i}{\\sqrt{(r_i v_i)^2 + l_i^2}} &=0\\\\\n",
    "\\frac{1}{2 \\Delta t} l_{i-1} - \\frac{1}{2 \\Delta t} l_{i+1} + \\frac{\\alpha_b}{1 - \\alpha_b t_i} \\frac{r_i l_i}{\\sqrt{(r_i v_i)^2 + l_i^2}}&=0\n",
    "\\end{align}"
   ]
  },
  {
   "cell_type": "markdown",
   "metadata": {},
   "source": [
    "For $i = n-1$:\n",
    "\n",
    "\\begin{align}\n",
    "\\frac{1}{2 \\Delta t} r_{n-2} + v_{n-1} - \\frac{1}{2 \\Delta t} r_n &=0\\\\\n",
    "\\frac{1}{2 \\Delta t} v_{n-2} + \\frac{l_{n-1}^2}{r_{n-1}^3} - P \\frac{1}{r_{n-1}^2} + \\frac{\\alpha_b}{1 - \\alpha_b t_{n-1}} \\frac{r_{n-1} v_{n-1}}{\\sqrt{(r_{n-1} v_{n-1})^2 + l_{n-1}^2}} &=0\\\\\n",
    "\\frac{1}{2 \\Delta t} l_{n-2} + \\frac{\\alpha_b}{1 - \\alpha_b t_{n-1}} \\frac{r_{n-1} l_{n-1}}{\\sqrt{(r_{n-1} v_{n-1})^2 + l_{n-1}^2}} - \\frac{1}{2 \\Delta t} \\sqrt{P} \\sqrt{r_n} & = 0\n",
    "\\end{align}"
   ]
  },
  {
   "cell_type": "markdown",
   "metadata": {},
   "source": [
    "For $i=n$, we will use the derivative which takes into account the two previous values as well as the current one.  In this derivative:\n",
    "\n",
    "\\begin{align}\n",
    "\\frac{\\partial f_n}{\\partial t} & = \\frac{3 f_n - 4 f_{n-1} + f_{n-2}}{2 \\Delta t}\n",
    "\\end{align}"
   ]
  },
  {
   "cell_type": "markdown",
   "metadata": {},
   "source": [
    "\\begin{align}\n",
    "f_{ir} & = - \\frac{1}{2 \\Delta t} r_{n-2} + \\frac{2}{\\Delta t} r_{n-1} - \\frac{3}{2 \\Delta t} r_n + v_n \\\\\n",
    "f_{iv} & = -\\frac{1}{2 \\Delta t} v_{n-2} + \\frac{2}{\\Delta t} v_{n-1} - \\frac{3}{2 \\Delta t} v_{n} + \\frac{l_n^2}{r_n^3} - P \\frac{1}{r_n^2} + \\frac{\\alpha_b}{1 - \\alpha_b t_n} \\frac{r_n v_n}{\\sqrt{(r_n v_n)^2 + l_n^2}} \\\\\n",
    "f_{il} & = - \\frac{1}{2 \\Delta t} l_{n-2} + \\frac{2}{\\Delta t} l_{n-1} - \\frac{3}{2 \\Delta t} l_n + \\frac{\\alpha_b}{1 - \\alpha_b t_n} \\frac{r_n l_n}{\\sqrt{(r_n v_n)^2 + l_n^2}}\n",
    "\\end{align}"
   ]
  },
  {
   "cell_type": "markdown",
   "metadata": {},
   "source": [
    "We can simplify this expression, since $v_n = 0$ and $l_n = \\sqrt{P}\\sqrt{r_n}$."
   ]
  },
  {
   "cell_type": "markdown",
   "metadata": {},
   "source": [
    "\\begin{align}\n",
    "\\frac{-1}{2 \\Delta t} r_{n-2} + \\frac{2}{\\Delta t} r_{n-1} - \\frac{3}{2 \\Delta t} r_n & = 0 \\\\\n",
    "\\frac{-1}{2 \\Delta t} v_{n-2} + \\frac{2}{\\Delta t} v_{n-1} & = 0 \\\\\n",
    "\\frac{-1}{2 \\Delta t} l_{n-2} + \\frac{2}{\\Delta t} l_{n-1} - \\frac{3}{2 \\Delta t} \\sqrt{P} \\sqrt{r_n} + \\frac{\\alpha_b}{1 - \\alpha_b t_n} r_n & = 0\n",
    "\\end{align}"
   ]
  },
  {
   "cell_type": "markdown",
   "metadata": {},
   "source": [
    "\n",
    "\\begin{align}\n",
    "\\frac{1}{2 \\Delta t} r_{i-1} - \\frac{1}{2 \\Delta t} r_{i+1} + v_i &=0\\\\\n",
    "\\frac{1}{2 \\Delta t} v_{i-1} - \\frac{1}{2 \\Delta t} v_{i+1} + \\frac{l_i^2}{r_i^3} - P \\frac{1}{r_i^2} + \\frac{\\alpha_b}{1 - \\alpha_b t_i} \\frac{r_i v_i}{\\sqrt{(r_i v_i)^2 + l_i^2}} &=0\\\\\n",
    "\\frac{1}{2 \\Delta t} l_{i-1} - \\frac{1}{2 \\Delta t} l_{i+1} + \\frac{\\alpha_b}{1 - \\alpha_b t_i} \\frac{r_i l_i}{\\sqrt{(r_i v_i)^2 + l_i^2}}&=0\n",
    "\\end{align}"
   ]
  },
  {
   "cell_type": "code",
   "execution_count": null,
   "metadata": {
    "collapsed": true
   },
   "outputs": [],
   "source": [
    "def f(x, inits, n, delta_t):\n",
    "    alpha_b = x[-2]\n",
    "    P = x[-1]\n",
    "    fo = np.empty(3*n)\n",
    "    \n",
    "    a_1 = alpha_b/(1 - alpha_b*delta_t)\n",
    "    d_1 = np.sqrt((x[0]*x[1])**2 + x[2]**2)\n",
    "    fo[0] = 0.5/delta_t*(inits[0] - x[3]) + x[1]\n",
    "    fo[1] = 0.5/delta_t*(inits[1] - x[4]) + x[2]**2/x[0]**3 - P/x[0]**2 + a_1*x[0]*x[1]/d_1\n",
    "    fo[2] = 0.5/delta_t*(inits[2] - x[5]) + a_1*x[0]*x[2]/d_1\n",
    "    \n",
    "    for i in range(1,n-1):\n",
    "        a_i = alpha_b/(1 - alpha_b*(i+1)*delta_t)\n",
    "        d_i = np.sqrt((x[i*3]*x[i*3+1])**2 + x[i*3+2]**2)\n",
    "        fo[i*3    ] = 0.5/delta_t*(x[(i-1)*3] - x[(i+1)*3]) + x[i*3+1]\n",
    "        fo[i*3 + 1] = 0.5/delta_t*(x[(i-1)*3+1] - x[(i+1)*3+1]) + x[i*3+2]**2/x[i*3]**3 - P/x[i*3]**3 + a_i*x[i*3]*x[i*3+1]/d_i\n",
    "        fo[i*3 + 2] = 0.5/delta_t*(x[(i-1)*3+2] - x[(i+1)*3+2]) + a_i*x[i*3]*x[i*3+2]/d_i\n",
    "    \n",
    "    a_nm1 = alpha_b/(1 - alpha_b*(n-1)*delta_t)\n",
    "    d_nm1 = "
   ]
  }
 ],
 "metadata": {
  "anaconda-cloud": {},
  "kernelspec": {
   "display_name": "Python [default]",
   "language": "python",
   "name": "python3"
  },
  "language_info": {
   "codemirror_mode": {
    "name": "ipython",
    "version": 3
   },
   "file_extension": ".py",
   "mimetype": "text/x-python",
   "name": "python",
   "nbconvert_exporter": "python",
   "pygments_lexer": "ipython3",
   "version": "3.5.2"
  }
 },
 "nbformat": 4,
 "nbformat_minor": 0
}
